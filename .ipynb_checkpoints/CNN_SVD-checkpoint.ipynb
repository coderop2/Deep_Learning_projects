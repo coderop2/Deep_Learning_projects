{
 "cells": [
  {
   "cell_type": "markdown",
   "metadata": {
    "id": "ebEGgSy2bdDp"
   },
   "source": [
    "# CNN with SVD"
   ]
  },
  {
   "cell_type": "markdown",
   "metadata": {
    "id": "qc0w8-YjbiT3"
   },
   "source": [
    "## Importing the libraries and dependencies and drive\n",
    "The following cell block imports all the libraries, functions, methods that are being used inn this jupyter notebook.<br>\n",
    "The Deep Learning/Machine Learning Libarary being used here is the high level keras API of tensorflow 2.X.<Br>\n",
    "And the plotting is done with matplotlib or seaborn plotting packages.\n",
    "\n",
    "Along with this all the constants that will be common throughout the file are defined and declared here."
   ]
  },
  {
   "cell_type": "code",
   "execution_count": 2,
   "metadata": {
    "colab": {
     "base_uri": "https://localhost:8080/"
    },
    "id": "qGMI8UW1sJ1f",
    "outputId": "0fff54f2-40cf-4504-c510-bbe33c65b853"
   },
   "outputs": [
    {
     "name": "stdout",
     "output_type": "stream",
     "text": [
      "Mounted at /content/drive\n"
     ]
    }
   ],
   "source": [
    "from google.colab import drive\n",
    "drive.mount('/content/drive')"
   ]
  },
  {
   "cell_type": "code",
   "execution_count": 1,
   "metadata": {
    "id": "SyFQdFHhF87g"
   },
   "outputs": [],
   "source": [
    "import random, math, os, pickle, random, librosa\n",
    "import numpy as np\n",
    "import pandas as pd\n",
    "import tensorflow as tf\n",
    "import matplotlib.pyplot as plt\n",
    "import tensorflow_datasets as tfds\n",
    "from itertools import combinations\n",
    "%matplotlib inline\n",
    "\n",
    "EPOCHS = 200\n",
    "BATCH_SIZE = 128\n",
    "IMG_SIZE = (28,28)\n",
    "SEED = 100\n",
    "CLASSES = 10\n",
    "LEARNING_RATE = 0.001\n",
    "ACCURACY_THRESHOLD = 0.98"
   ]
  },
  {
   "cell_type": "markdown",
   "metadata": {
    "id": "anvZectQb9v2"
   },
   "source": [
    "## Loading Data\n",
    "The following block of code loads MNIST data in two formats.\n",
    "- First is through the dataset module from keras which loads data in numpy arrays.\n",
    "- Second is the TFDS - Tensorflow dataset module which loads data in the format of tenorflow_dataset whic makes it fast o process and load data onto and away from the memory(GPU/CPU)\n",
    "\n",
    "I experimented with both the above techniques but the second one was very fast and thats what i am sticking with.\n",
    "As it loads the next batch of data onto GPU memory while the current batch is being operated on - this is done with the prefetching functionality of the tensorflow_dataset module."
   ]
  },
  {
   "cell_type": "code",
   "execution_count": 11,
   "metadata": {
    "id": "EsL5fGZR48LR"
   },
   "outputs": [],
   "source": [
    "# df_train, df_test = tf.keras.datasets.mnist.load_data()\n",
    "\n",
    "(df_train, df_test), df_info = tfds.load(\n",
    "    'mnist',\n",
    "    split=['train', 'test'],\n",
    "    shuffle_files = False,\n",
    "    with_info = True,\n",
    "    as_supervised = True\n",
    ")"
   ]
  },
  {
   "cell_type": "code",
   "execution_count": 6,
   "metadata": {
    "colab": {
     "base_uri": "https://localhost:8080/"
    },
    "id": "Pvn1f5kQn-bE",
    "outputId": "e1dcacc5-c1ad-474b-ea4d-a1ba6c6c2d7c"
   },
   "outputs": [
    {
     "data": {
      "text/plain": [
       "tfds.core.DatasetInfo(\n",
       "    name='mnist',\n",
       "    version=3.0.1,\n",
       "    description='The MNIST database of handwritten digits.',\n",
       "    homepage='http://yann.lecun.com/exdb/mnist/',\n",
       "    features=FeaturesDict({\n",
       "        'image': Image(shape=(28, 28, 1), dtype=tf.uint8),\n",
       "        'label': ClassLabel(shape=(), dtype=tf.int64, num_classes=10),\n",
       "    }),\n",
       "    total_num_examples=70000,\n",
       "    splits={\n",
       "        'test': 10000,\n",
       "        'train': 60000,\n",
       "    },\n",
       "    supervised_keys=('image', 'label'),\n",
       "    citation=\"\"\"@article{lecun2010mnist,\n",
       "      title={MNIST handwritten digit database},\n",
       "      author={LeCun, Yann and Cortes, Corinna and Burges, CJ},\n",
       "      journal={ATT Labs [Online]. Available: http://yann.lecun.com/exdb/mnist},\n",
       "      volume={2},\n",
       "      year={2010}\n",
       "    }\"\"\",\n",
       "    redistribution_info=,\n",
       ")"
      ]
     },
     "execution_count": 6,
     "metadata": {},
     "output_type": "execute_result"
    }
   ],
   "source": [
    "df_info"
   ]
  },
  {
   "cell_type": "markdown",
   "metadata": {
    "id": "PaKE_UtucllE"
   },
   "source": [
    "## Labels for the data & Look at the data"
   ]
  },
  {
   "cell_type": "code",
   "execution_count": 9,
   "metadata": {
    "colab": {
     "base_uri": "https://localhost:8080/"
    },
    "id": "BvGM3-aAcg5U",
    "outputId": "536b377d-0191-49ed-d1da-93f57a80fe04"
   },
   "outputs": [
    {
     "data": {
      "text/plain": [
       "{0: '0',\n",
       " 1: '1',\n",
       " 2: '2',\n",
       " 3: '3',\n",
       " 4: '4',\n",
       " 5: '5',\n",
       " 6: '6',\n",
       " 7: '7',\n",
       " 8: '8',\n",
       " 9: '9'}"
      ]
     },
     "execution_count": 9,
     "metadata": {},
     "output_type": "execute_result"
    }
   ],
   "source": [
    "{df_info.features['label'].str2int(x):x for x in df_info.features['label'].names}"
   ]
  },
  {
   "cell_type": "code",
   "execution_count": 12,
   "metadata": {
    "colab": {
     "base_uri": "https://localhost:8080/",
     "height": 534
    },
    "id": "mr7lGXtHcphq",
    "outputId": "21bae00a-3055-473f-c9f0-cfa2ed148662"
   },
   "outputs": [
    {
     "data": {
      "image/png": "[encoded data removed]",
      "text/plain": [
       "<Figure size 648x648 with 9 Axes>"
      ]
     },
     "metadata": {},
     "output_type": "display_data"
    }
   ],
   "source": [
    "fig = tfds.show_examples(df_train, df_info)"
   ]
  },
  {
   "cell_type": "markdown",
   "metadata": {
    "id": "t9yWC84Cc5Yy"
   },
   "source": [
    "Processing the dataset and turning each set into a trainable and testable sets."
   ]
  },
  {
   "cell_type": "code",
   "execution_count": 13,
   "metadata": {
    "id": "j5F-7r7Bc0Cl"
   },
   "outputs": [],
   "source": [
    "def normalize(image, label):\n",
    "    return tf.cast(image, tf.float32) / 255., tf.one_hot(label, depth=10)\n",
    "\n",
    "df_train = df_train.map(normalize, \n",
    "                        num_parallel_calls = tf.data.experimental.AUTOTUNE)\n",
    "df_train = df_train.cache()\n",
    "df_train = df_train.shuffle(df_info.splits['train'].num_examples)\n",
    "df_train = df_train.batch(BATCH_SIZE)\n",
    "df_train = df_train.prefetch(tf.data.experimental.AUTOTUNE)\n",
    "\n",
    "df_test = df_test.map(normalize, num_parallel_calls = tf.data.experimental.AUTOTUNE)\n",
    "df_test = df_test.cache()\n",
    "df_test = df_test.batch(BATCH_SIZE)\n",
    "df_test = df_test.prefetch(tf.data.experimental.AUTOTUNE)"
   ]
  },
  {
   "cell_type": "code",
   "execution_count": 5,
   "metadata": {
    "id": "0W6iOxUgpCwe"
   },
   "outputs": [],
   "source": [
    "class CustomCallback(tf.keras.callbacks.Callback):\n",
    "    def on_epoch_end(self, epoch, logs=None):\n",
    "        if(logs.get('val_accuracy') > ACCURACY_THRESHOLD):   \n",
    "            print(\"\\nReached %2.2f%% validation accuracy, so stopping training!!\" %(ACCURACY_THRESHOLD*100))   \n",
    "            self.model.stop_training = True\n",
    "\n",
    "# checkpoint = keras.callbacks.ModelCheckpoint('', monitor='accuracy', mode='max', verbose=1, save_best_only=True)"
   ]
  },
  {
   "cell_type": "markdown",
   "metadata": {
    "id": "TqiBKzzTb07S"
   },
   "source": [
    "## Baseline with external SVD"
   ]
  },
  {
   "cell_type": "markdown",
   "metadata": {
    "id": "WodSkqkjbvCt"
   },
   "source": [
    "### Model architecture & helper methods\n",
    "There are three helper methods :-\n",
    "- seed_everthing - sets the seed for numpy, tensorflow and random modules so that when we try and replicate a result we can do so if the seeds are same.\n",
    "- clear_tf - clears the backend of the tensorflow module.\n",
    "- Model - this method defines a common method which will used commonly accross all the question to define a Deep Learning model."
   ]
  },
  {
   "cell_type": "code",
   "execution_count": 3,
   "metadata": {
    "id": "aX1RhYpHFB5W"
   },
   "outputs": [],
   "source": [
    "def seed_everything(seed):\n",
    "    np.random.seed(seed)\n",
    "    random.seed(seed)\n",
    "    tf.compat.v1.random.set_random_seed(seed)\n",
    "    tf.compat.v2.random.set_seed(seed)\n",
    "\n",
    "def clear_tf():\n",
    "    tf.keras.backend.clear_session()\n",
    "\n",
    "def Model(img_shape = IMG_SIZE, \n",
    "          output_units = 10,\n",
    "          activation_fn = tf.keras.layers.LeakyReLU(),\n",
    "          initializer = 'glorot_uniform',\n",
    "          num_layers = 5,\n",
    "          units_per_layer = [1024]*5,\n",
    "          include_normalization = True,\n",
    "          include_dropout = True,\n",
    "          dropout_rate = [0.2]*5):\n",
    "    \n",
    "    inp = tf.keras.Input(shape = img_shape)\n",
    "    layer = tf.keras.layers.Flatten()(inp)\n",
    "    layer = tf.keras.layers.Dense(units_per_layer[0], \n",
    "                                  activation = activation_fn, \n",
    "                                  kernel_initializer=initializer,\n",
    "                                  name = 'Dense_layer_1')(layer)\n",
    "    if include_normalization:\n",
    "        layer = tf.keras.layers.BatchNormalization()(layer)\n",
    "    if include_dropout:\n",
    "        layer = tf.keras.layers.Dropout(dropout_rate[0])(layer)\n",
    "    for idx in range(1, num_layers):\n",
    "        layer = tf.keras.layers.Dense(units_per_layer[idx],\n",
    "                                      activation = activation_fn,\n",
    "                                      kernel_initializer = initializer,\n",
    "                                      name = 'Dense_layer_'+str(idx+1))(layer)\n",
    "        if include_normalization:\n",
    "            layer = tf.keras.layers.BatchNormalization()(layer)\n",
    "        if include_dropout:\n",
    "            layer = tf.keras.layers.Dropout(dropout_rate[idx])(layer)\n",
    "\n",
    "    out = tf.keras.layers.Dense(output_units, \n",
    "                                activation = 'softmax', \n",
    "                                kernel_initializer = initializer,\n",
    "                                name = 'Output')(layer)\n",
    "\n",
    "    model = tf.keras.models.Model(inputs = inp, outputs = out)\n",
    "    return model\n",
    "\n",
    "seed_everything(SEED)\n",
    "clear_tf()"
   ]
  },
  {
   "cell_type": "markdown",
   "metadata": {
    "id": "-BElx9zBdJHg"
   },
   "source": [
    "### Model Summary & training"
   ]
  },
  {
   "cell_type": "code",
   "execution_count": 4,
   "metadata": {
    "colab": {
     "base_uri": "https://localhost:8080/"
    },
    "id": "59Z9Okt1Wzn1",
    "outputId": "17533dd7-fea6-4569-8cec-a9fd338a5ce0"
   },
   "outputs": [
    {
     "name": "stdout",
     "output_type": "stream",
     "text": [
      "Model: \"model\"\n",
      "_________________________________________________________________\n",
      " Layer (type)                Output Shape              Param #   \n",
      "=================================================================\n",
      " input_1 (InputLayer)        [(None, 28, 28)]          0         \n",
      "                                                                 \n",
      " flatten (Flatten)           (None, 784)               0         \n",
      "                                                                 \n",
      " Dense_layer_1 (Dense)       (None, 1024)              803840    \n",
      "                                                                 \n",
      " batch_normalization (BatchN  (None, 1024)             4096      \n",
      " ormalization)                                                   \n",
      "                                                                 \n",
      " dropout (Dropout)           (None, 1024)              0         \n",
      "                                                                 \n",
      " Dense_layer_2 (Dense)       (None, 1024)              1049600   \n",
      "                                                                 \n",
      " batch_normalization_1 (Batc  (None, 1024)             4096      \n",
      " hNormalization)                                                 \n",
      "                                                                 \n",
      " dropout_1 (Dropout)         (None, 1024)              0         \n",
      "                                                                 \n",
      " Dense_layer_3 (Dense)       (None, 1024)              1049600   \n",
      "                                                                 \n",
      " batch_normalization_2 (Batc  (None, 1024)             4096      \n",
      " hNormalization)                                                 \n",
      "                                                                 \n",
      " dropout_2 (Dropout)         (None, 1024)              0         \n",
      "                                                                 \n",
      " Dense_layer_4 (Dense)       (None, 1024)              1049600   \n",
      "                                                                 \n",
      " batch_normalization_3 (Batc  (None, 1024)             4096      \n",
      " hNormalization)                                                 \n",
      "                                                                 \n",
      " dropout_3 (Dropout)         (None, 1024)              0         \n",
      "                                                                 \n",
      " Dense_layer_5 (Dense)       (None, 1024)              1049600   \n",
      "                                                                 \n",
      " batch_normalization_4 (Batc  (None, 1024)             4096      \n",
      " hNormalization)                                                 \n",
      "                                                                 \n",
      " dropout_4 (Dropout)         (None, 1024)              0         \n",
      "                                                                 \n",
      " Output (Dense)              (None, 10)                10250     \n",
      "                                                                 \n",
      "=================================================================\n",
      "Total params: 5,032,970\n",
      "Trainable params: 5,022,730\n",
      "Non-trainable params: 10,240\n",
      "_________________________________________________________________\n"
     ]
    }
   ],
   "source": [
    "Model().summary()"
   ]
  },
  {
   "cell_type": "code",
   "execution_count": 8,
   "metadata": {
    "colab": {
     "base_uri": "https://localhost:8080/"
    },
    "id": "Z6B01_UkoB3Z",
    "outputId": "15540f3c-e8d2-4600-838b-339e7253b7d5"
   },
   "outputs": [
    {
     "name": "stdout",
     "output_type": "stream",
     "text": [
      "Epoch 1/200\n",
      "469/469 [==============================] - 12s 9ms/step - loss: 0.2938 - accuracy: 0.9164 - val_loss: 0.1682 - val_accuracy: 0.9506\n",
      "Epoch 2/200\n",
      "469/469 [==============================] - 3s 6ms/step - loss: 0.1513 - accuracy: 0.9546 - val_loss: 0.1479 - val_accuracy: 0.9592\n",
      "Epoch 3/200\n",
      "469/469 [==============================] - 3s 6ms/step - loss: 0.1246 - accuracy: 0.9604 - val_loss: 0.1148 - val_accuracy: 0.9662\n",
      "Epoch 4/200\n",
      "469/469 [==============================] - 3s 6ms/step - loss: 0.1047 - accuracy: 0.9678 - val_loss: 0.1055 - val_accuracy: 0.9687\n",
      "Epoch 5/200\n",
      "469/469 [==============================] - 3s 6ms/step - loss: 0.0937 - accuracy: 0.9711 - val_loss: 0.0878 - val_accuracy: 0.9753\n",
      "Epoch 6/200\n",
      "469/469 [==============================] - 3s 6ms/step - loss: 0.0865 - accuracy: 0.9724 - val_loss: 0.0960 - val_accuracy: 0.9719\n",
      "Epoch 7/200\n",
      "469/469 [==============================] - 3s 6ms/step - loss: 0.0787 - accuracy: 0.9751 - val_loss: 0.1090 - val_accuracy: 0.9693\n",
      "Epoch 8/200\n",
      "469/469 [==============================] - 3s 6ms/step - loss: 0.0755 - accuracy: 0.9762 - val_loss: 0.1154 - val_accuracy: 0.9689\n",
      "Epoch 9/200\n",
      "469/469 [==============================] - 3s 6ms/step - loss: 0.0690 - accuracy: 0.9787 - val_loss: 0.0984 - val_accuracy: 0.9705\n",
      "Epoch 10/200\n",
      "469/469 [==============================] - 3s 6ms/step - loss: 0.0678 - accuracy: 0.9781 - val_loss: 0.1141 - val_accuracy: 0.9678\n",
      "Epoch 11/200\n",
      "469/469 [==============================] - 3s 6ms/step - loss: 0.0608 - accuracy: 0.9802 - val_loss: 0.0749 - val_accuracy: 0.9793\n",
      "Epoch 12/200\n",
      "469/469 [==============================] - 3s 6ms/step - loss: 0.0541 - accuracy: 0.9826 - val_loss: 0.0928 - val_accuracy: 0.9745\n",
      "Epoch 13/200\n",
      "469/469 [==============================] - 3s 6ms/step - loss: 0.0563 - accuracy: 0.9818 - val_loss: 0.0880 - val_accuracy: 0.9763\n",
      "Epoch 14/200\n",
      "469/469 [==============================] - 3s 6ms/step - loss: 0.0508 - accuracy: 0.9841 - val_loss: 0.0948 - val_accuracy: 0.9764\n",
      "Epoch 15/200\n",
      "469/469 [==============================] - 3s 6ms/step - loss: 0.0509 - accuracy: 0.9838 - val_loss: 0.0866 - val_accuracy: 0.9789\n",
      "Epoch 16/200\n",
      "469/469 [==============================] - 3s 6ms/step - loss: 0.0477 - accuracy: 0.9843 - val_loss: 0.0845 - val_accuracy: 0.9788\n",
      "Epoch 17/200\n",
      "469/469 [==============================] - 3s 6ms/step - loss: 0.0456 - accuracy: 0.9850 - val_loss: 0.0784 - val_accuracy: 0.9778\n",
      "Epoch 18/200\n",
      "469/469 [==============================] - 3s 6ms/step - loss: 0.0388 - accuracy: 0.9873 - val_loss: 0.0834 - val_accuracy: 0.9783\n",
      "Epoch 19/200\n",
      "469/469 [==============================] - 3s 6ms/step - loss: 0.0435 - accuracy: 0.9857 - val_loss: 0.0910 - val_accuracy: 0.9777\n",
      "Epoch 20/200\n",
      "469/469 [==============================] - 3s 6ms/step - loss: 0.0379 - accuracy: 0.9874 - val_loss: 0.0847 - val_accuracy: 0.9786\n",
      "Epoch 21/200\n",
      "466/469 [============================>.] - ETA: 0s - loss: 0.0375 - accuracy: 0.9876\n",
      "Reached 98.00% validation accuracy, so stopping training!!\n",
      "469/469 [==============================] - 3s 6ms/step - loss: 0.0375 - accuracy: 0.9876 - val_loss: 0.0741 - val_accuracy: 0.9817\n"
     ]
    },
    {
     "data": {
      "text/plain": [
       "<keras.callbacks.History at 0x7fe3c0312410>"
      ]
     },
     "execution_count": 8,
     "metadata": {},
     "output_type": "execute_result"
    }
   ],
   "source": [
    "model = Model()\n",
    "model.compile(metrics = ['accuracy'],\n",
    "              loss = 'categorical_crossentropy',\n",
    "              optimizer = 'adam')\n",
    "model.fit(df_train, \n",
    "          validation_data = df_test,\n",
    "          epochs = EPOCHS,\n",
    "          callbacks = [CustomCallback()])"
   ]
  },
  {
   "cell_type": "markdown",
   "metadata": {
    "id": "ZqxuFP6HdP-2"
   },
   "source": [
    "### SVD "
   ]
  },
  {
   "cell_type": "code",
   "execution_count": 9,
   "metadata": {
    "id": "AD9ccM8HwvSk"
   },
   "outputs": [],
   "source": [
    "weights = {}\n",
    "bias = {}\n",
    "for layer in model.layers:\n",
    "    if 'Dense' in layer.name:\n",
    "        weights[layer.name] = layer.get_weights()[0]\n",
    "        bias[layer.name] = layer.get_weights()[1]"
   ]
  },
  {
   "cell_type": "code",
   "execution_count": 21,
   "metadata": {
    "colab": {
     "base_uri": "https://localhost:8080/",
     "height": 893
    },
    "id": "GD8GHbBw2JjF",
    "outputId": "dbe08c38-df83-48f5-8d08-647860ad13f8"
   },
   "outputs": [
    {
     "name": "stdout",
     "output_type": "stream",
     "text": [
      "79/79 [==============================] - 0s 3ms/step - loss: 1.3407 - accuracy: 0.7520\n",
      "79/79 [==============================] - 0s 3ms/step - loss: 0.1940 - accuracy: 0.9524\n",
      "79/79 [==============================] - 0s 3ms/step - loss: 0.0791 - accuracy: 0.9798\n",
      "79/79 [==============================] - 0s 3ms/step - loss: 0.0730 - accuracy: 0.9816\n",
      "79/79 [==============================] - 0s 3ms/step - loss: 0.0731 - accuracy: 0.9818\n",
      "79/79 [==============================] - 0s 3ms/step - loss: 0.0741 - accuracy: 0.9817\n"
     ]
    },
    {
     "data": {
      "image/png": "[encoded data removed]",
      "text/plain": [
       "<Figure size 720x432 with 1 Axes>"
      ]
     },
     "metadata": {
      "needs_background": "light"
     },
     "output_type": "display_data"
    },
    {
     "data": {
      "image/png": "[encoded data removed]",
      "text/plain": [
       "<Figure size 720x432 with 1 Axes>"
      ]
     },
     "metadata": {
      "needs_background": "light"
     },
     "output_type": "display_data"
    }
   ],
   "source": [
    "def get_new_weights(D, model, weights, bias):\n",
    "    for key in weights:\n",
    "        s, u, v = tf.linalg.svd(weights[key])\n",
    "        if D == -1:\n",
    "            D == s.shape[0]\n",
    "        new_weight = tf.matmul(u[:,:D], tf.matmul(tf.linalg.diag(s)[:D,:D], tf.transpose(v[:,:D])))\n",
    "        # new_weight = tf.matmul(tf.matmul(u[:,:D], tf.linalg.diag(s)[:D,:D]), tf.transpose(v[:,:D]))\n",
    "        model.get_layer(key).set_weights([new_weight, bias[key]])\n",
    "    return model.evaluate(df_test)\n",
    "\n",
    "d_vals = [10, 20, 50, 100, 200, -1]\n",
    "accuracies = []\n",
    "losses = []\n",
    "for d in d_vals:\n",
    "    loss, acc = get_new_weights(d, model, weights, bias)\n",
    "    losses.append(loss)\n",
    "    accuracies.append(acc)\n",
    "\n",
    "d_vals[-1] = 784\n",
    "plt.figure(figsize = (10,6))\n",
    "plt.plot(d_vals, accuracies)\n",
    "plt.title(\"Accuracy of the model for different D\")\n",
    "plt.xlabel('D')\n",
    "plt.ylabel(\"Accuracy\")\n",
    "plt.show()\n",
    "\n",
    "plt.figure(figsize = (10,6))\n",
    "plt.plot(d_vals, losses)\n",
    "plt.title(\"Loss of the model for different D\")\n",
    "plt.xlabel('D')\n",
    "plt.ylabel(\"Loss\")\n",
    "plt.show()"
   ]
  },
  {
   "cell_type": "markdown",
   "metadata": {
    "id": "NUC97LArOHX4"
   },
   "source": [
    "## Model with layer wise SVD weights"
   ]
  },
  {
   "cell_type": "markdown",
   "metadata": {
    "id": "BJuCW1nydW4g"
   },
   "source": [
    "### Model Architecture & Summary"
   ]
  },
  {
   "cell_type": "code",
   "execution_count": 42,
   "metadata": {
    "colab": {
     "base_uri": "https://localhost:8080/"
    },
    "id": "9qahQQdPLQrk",
    "outputId": "bb6c2cf4-9801-4a40-e1c3-ddf3c20a8e6a"
   },
   "outputs": [
    {
     "name": "stdout",
     "output_type": "stream",
     "text": [
      "Model: \"model_3\"\n",
      "_________________________________________________________________\n",
      " Layer (type)                Output Shape              Param #   \n",
      "=================================================================\n",
      " input_4 (InputLayer)        [(None, 28, 28)]          0         \n",
      "                                                                 \n",
      " flatten_3 (Flatten)         (None, 784)               0         \n",
      "                                                                 \n",
      " u_Dense_1 (Dense)           (None, 20)                15700     \n",
      "                                                                 \n",
      " v_Dense_1 (Dense)           (None, 1024)              21504     \n",
      "                                                                 \n",
      " batch_normalization_15 (Bat  (None, 1024)             4096      \n",
      " chNormalization)                                                \n",
      "                                                                 \n",
      " dropout_15 (Dropout)        (None, 1024)              0         \n",
      "                                                                 \n",
      " u_Dense_2 (Dense)           (None, 20)                20500     \n",
      "                                                                 \n",
      " v_Dense_2 (Dense)           (None, 1024)              21504     \n",
      "                                                                 \n",
      " batch_normalization_16 (Bat  (None, 1024)             4096      \n",
      " chNormalization)                                                \n",
      "                                                                 \n",
      " dropout_16 (Dropout)        (None, 1024)              0         \n",
      "                                                                 \n",
      " u_Dense_3 (Dense)           (None, 20)                20500     \n",
      "                                                                 \n",
      " v_Dense_3 (Dense)           (None, 1024)              21504     \n",
      "                                                                 \n",
      " batch_normalization_17 (Bat  (None, 1024)             4096      \n",
      " chNormalization)                                                \n",
      "                                                                 \n",
      " dropout_17 (Dropout)        (None, 1024)              0         \n",
      "                                                                 \n",
      " u_Dense_4 (Dense)           (None, 20)                20500     \n",
      "                                                                 \n",
      " v_Dense_4 (Dense)           (None, 1024)              21504     \n",
      "                                                                 \n",
      " batch_normalization_18 (Bat  (None, 1024)             4096      \n",
      " chNormalization)                                                \n",
      "                                                                 \n",
      " dropout_18 (Dropout)        (None, 1024)              0         \n",
      "                                                                 \n",
      " u_Dense_5 (Dense)           (None, 20)                20500     \n",
      "                                                                 \n",
      " v_Dense_5 (Dense)           (None, 1024)              21504     \n",
      "                                                                 \n",
      " batch_normalization_19 (Bat  (None, 1024)             4096      \n",
      " chNormalization)                                                \n",
      "                                                                 \n",
      " dropout_19 (Dropout)        (None, 1024)              0         \n",
      "                                                                 \n",
      " Output (Dense)              (None, 10)                10250     \n",
      "                                                                 \n",
      "=================================================================\n",
      "Total params: 235,950\n",
      "Trainable params: 225,710\n",
      "Non-trainable params: 10,240\n",
      "_________________________________________________________________\n"
     ]
    }
   ],
   "source": [
    "D = 20\n",
    "\n",
    "inp = tf.keras.Input(shape = IMG_SIZE)\n",
    "flat = tf.keras.layers.Flatten()(inp)\n",
    "u = tf.keras.layers.Dense(D, \n",
    "                          name='u_Dense_1',\n",
    "                          activation = tf.keras.layers.LeakyReLU(),\n",
    "                          kernel_initializer = 'glorot_uniform')(flat)\n",
    "v = tf.keras.layers.Dense(1024, \n",
    "                          name='v_Dense_1',\n",
    "                          activation = tf.keras.layers.LeakyReLU(),\n",
    "                          kernel_initializer = 'glorot_uniform')(u)\n",
    "layer = tf.keras.layers.BatchNormalization()(v)\n",
    "layer = tf.keras.layers.Dropout(0.2)(layer)\n",
    "\n",
    "for i in range(2, 6):\n",
    "    u = tf.keras.layers.Dense(D, \n",
    "                          name=f'u_Dense_{i}',\n",
    "                          activation = tf.keras.layers.LeakyReLU(),\n",
    "                          kernel_initializer = 'glorot_uniform')(layer)\n",
    "    v = tf.keras.layers.Dense(1024, \n",
    "                            name=f'v_Dense_{i}',\n",
    "                            activation = tf.keras.layers.LeakyReLU(),\n",
    "                            kernel_initializer = 'glorot_uniform')(u)\n",
    "    layer = tf.keras.layers.BatchNormalization()(v)\n",
    "    layer = tf.keras.layers.Dropout(0.2)(layer)\n",
    "out = tf.keras.layers.Dense(10,\n",
    "                            activation = 'softmax', \n",
    "                            kernel_initializer = 'glorot_uniform',\n",
    "                            name = 'Output')(layer)\n",
    "\n",
    "model = tf.keras.models.Model(inputs = inp, outputs = out)\n",
    "model.compile(metrics=['accuracy'],\n",
    "              loss = 'categorical_crossentropy',\n",
    "              optimizer = 'adam')\n",
    "model.summary()"
   ]
  },
  {
   "cell_type": "markdown",
   "metadata": {
    "id": "BhxNGkkVdbUn"
   },
   "source": [
    "### Weights assignment from D = 20 SVD"
   ]
  },
  {
   "cell_type": "code",
   "execution_count": 43,
   "metadata": {
    "id": "WWsEGvJWNHQr"
   },
   "outputs": [],
   "source": [
    "# Get weights\n",
    "s1, u1, v1 = tf.linalg.svd(weights['Dense_layer_1'])\n",
    "V1 = tf.matmul(tf.linalg.diag(s1)[:D,:D], tf.transpose(v1[:,:D]))\n",
    "\n",
    "s2, u2, v2 = tf.linalg.svd(weights['Dense_layer_2'])\n",
    "V2 = tf.matmul(tf.linalg.diag(s2)[:D,:D], tf.transpose(v2[:,:D]))\n",
    "\n",
    "s3, u3, v3 = tf.linalg.svd(weights['Dense_layer_3'])\n",
    "V3 = tf.matmul(tf.linalg.diag(s3)[:D,:D], tf.transpose(v3[:,:D]))\n",
    "\n",
    "s4, u4, v4 = tf.linalg.svd(weights['Dense_layer_4'])\n",
    "V4 = tf.matmul(tf.linalg.diag(s4)[:D,:D], tf.transpose(v4[:,:D]))\n",
    "\n",
    "s5, u5, v5 = tf.linalg.svd(weights['Dense_layer_5'])\n",
    "V5 = tf.matmul(tf.linalg.diag(s5)[:D,:D], tf.transpose(v5[:,:D]))\n",
    "\n",
    "# Load weights from D = 20 SVD\n",
    "model.get_layer(\"u_Dense_1\").set_weights([u1[:,:D], bias['Dense_layer_1'][:D]])\n",
    "model.get_layer(\"v_Dense_1\").set_weights([V1, bias['Dense_layer_1']])\n",
    "\n",
    "model.get_layer(\"u_Dense_2\").set_weights([u2[:,:D], bias['Dense_layer_2'][:D]])\n",
    "model.get_layer(\"v_Dense_2\").set_weights([V2, bias['Dense_layer_2']])\n",
    "\n",
    "model.get_layer(\"u_Dense_3\").set_weights([u3[:,:D], bias['Dense_layer_3'][:D]])\n",
    "model.get_layer(\"v_Dense_3\").set_weights([V3, bias['Dense_layer_3']])\n",
    "\n",
    "model.get_layer(\"u_Dense_4\").set_weights([u4[:,:D], bias['Dense_layer_4'][:D]])\n",
    "model.get_layer(\"v_Dense_4\").set_weights([V4, bias['Dense_layer_4']])\n",
    "\n",
    "model.get_layer(\"u_Dense_5\").set_weights([u5[:,:D], bias['Dense_layer_5'][:D]])\n",
    "model.get_layer(\"v_Dense_5\").set_weights([V5, bias['Dense_layer_5']])"
   ]
  },
  {
   "cell_type": "markdown",
   "metadata": {
    "id": "2hN4zo8CdhF4"
   },
   "source": [
    "### Training"
   ]
  },
  {
   "cell_type": "code",
   "execution_count": 44,
   "metadata": {
    "colab": {
     "base_uri": "https://localhost:8080/"
    },
    "id": "hgTyWdXmcEGK",
    "outputId": "72ba966e-b2b0-4063-cb26-5234a047449f"
   },
   "outputs": [
    {
     "name": "stdout",
     "output_type": "stream",
     "text": [
      "Epoch 1/20\n",
      "469/469 [==============================] - 5s 7ms/step - loss: 0.2425 - accuracy: 0.9262 - val_loss: 0.1518 - val_accuracy: 0.9557\n",
      "Epoch 2/20\n",
      "469/469 [==============================] - 3s 7ms/step - loss: 0.1476 - accuracy: 0.9555 - val_loss: 0.1268 - val_accuracy: 0.9619\n",
      "Epoch 3/20\n",
      "469/469 [==============================] - 3s 7ms/step - loss: 0.1268 - accuracy: 0.9617 - val_loss: 0.1341 - val_accuracy: 0.9632\n",
      "Epoch 4/20\n",
      "469/469 [==============================] - 3s 7ms/step - loss: 0.1136 - accuracy: 0.9651 - val_loss: 0.1244 - val_accuracy: 0.9651\n",
      "Epoch 5/20\n",
      "469/469 [==============================] - 3s 7ms/step - loss: 0.1030 - accuracy: 0.9687 - val_loss: 0.1318 - val_accuracy: 0.9615\n",
      "Epoch 6/20\n",
      "469/469 [==============================] - 3s 7ms/step - loss: 0.0990 - accuracy: 0.9700 - val_loss: 0.1184 - val_accuracy: 0.9661\n",
      "Epoch 7/20\n",
      "469/469 [==============================] - 3s 7ms/step - loss: 0.0933 - accuracy: 0.9712 - val_loss: 0.1206 - val_accuracy: 0.9665\n",
      "Epoch 8/20\n",
      "469/469 [==============================] - 3s 7ms/step - loss: 0.0912 - accuracy: 0.9720 - val_loss: 0.1367 - val_accuracy: 0.9633\n",
      "Epoch 9/20\n",
      "469/469 [==============================] - 3s 7ms/step - loss: 0.0834 - accuracy: 0.9733 - val_loss: 0.1042 - val_accuracy: 0.9703\n",
      "Epoch 10/20\n",
      "469/469 [==============================] - 3s 7ms/step - loss: 0.0790 - accuracy: 0.9758 - val_loss: 0.1190 - val_accuracy: 0.9665\n",
      "Epoch 11/20\n",
      "469/469 [==============================] - 3s 7ms/step - loss: 0.0776 - accuracy: 0.9757 - val_loss: 0.1065 - val_accuracy: 0.9701\n",
      "Epoch 12/20\n",
      "469/469 [==============================] - 3s 7ms/step - loss: 0.0768 - accuracy: 0.9757 - val_loss: 0.1071 - val_accuracy: 0.9714\n",
      "Epoch 13/20\n",
      "469/469 [==============================] - 3s 7ms/step - loss: 0.0717 - accuracy: 0.9775 - val_loss: 0.1121 - val_accuracy: 0.9691\n",
      "Epoch 14/20\n",
      "469/469 [==============================] - 3s 7ms/step - loss: 0.0699 - accuracy: 0.9777 - val_loss: 0.0962 - val_accuracy: 0.9720\n",
      "Epoch 15/20\n",
      "469/469 [==============================] - 3s 7ms/step - loss: 0.0670 - accuracy: 0.9793 - val_loss: 0.1043 - val_accuracy: 0.9702\n",
      "Epoch 16/20\n",
      "469/469 [==============================] - 3s 7ms/step - loss: 0.0622 - accuracy: 0.9797 - val_loss: 0.0926 - val_accuracy: 0.9750\n",
      "Epoch 17/20\n",
      "469/469 [==============================] - 3s 7ms/step - loss: 0.0622 - accuracy: 0.9801 - val_loss: 0.0995 - val_accuracy: 0.9749\n",
      "Epoch 18/20\n",
      "469/469 [==============================] - 3s 7ms/step - loss: 0.0604 - accuracy: 0.9804 - val_loss: 0.0980 - val_accuracy: 0.9724\n",
      "Epoch 19/20\n",
      "469/469 [==============================] - 3s 7ms/step - loss: 0.0594 - accuracy: 0.9813 - val_loss: 0.1010 - val_accuracy: 0.9727\n",
      "Epoch 20/20\n",
      "469/469 [==============================] - 3s 7ms/step - loss: 0.0549 - accuracy: 0.9827 - val_loss: 0.1032 - val_accuracy: 0.9739\n",
      "79/79 [==============================] - 0s 3ms/step - loss: 0.1032 - accuracy: 0.9739\n",
      "Loss 0.10317225009202957, Accuracy 0.9739000201225281\n"
     ]
    }
   ],
   "source": [
    "model.fit(df_train, validation_data=df_test, epochs=20)\n",
    "\n",
    "loss, acc = model.evaluate(df_test)\n",
    "\n",
    "print(\"Loss {}, Accuracy {}\".format(loss, acc))"
   ]
  },
  {
   "cell_type": "markdown",
   "metadata": {
    "id": "XED3y3q38sCu"
   },
   "source": [
    "Test time classification accuracy and loss are found out using the evaluate function of the model and displayed as the last line of the previous cell."
   ]
  },
  {
   "cell_type": "markdown",
   "metadata": {
    "id": "Ddl5dE1mcUfy"
   },
   "source": [
    "## SVD at each epoch during training"
   ]
  },
  {
   "cell_type": "markdown",
   "metadata": {
    "id": "0pQgRmXXdj-y"
   },
   "source": [
    "### Custom Layer\n",
    "Here a custom layer is defined which takes tha input from the previous layer and does SVD on the weights and then perform the next step using the 20 units from the SVD'ed weights."
   ]
  },
  {
   "cell_type": "code",
   "execution_count": 50,
   "metadata": {
    "id": "b3slOUA8cRoB"
   },
   "outputs": [],
   "source": [
    "class SimpleDense(tf.keras.layers.Layer):\n",
    "    def __init__(self, \n",
    "                 units=32, \n",
    "                 activation='relu', \n",
    "                 kernel_initializer = 'glorot_normal', \n",
    "                 bias_initializer = 'glorot_normal', \n",
    "                 name = \"\"):\n",
    "        super(SimpleDense, self).__init__(name = name)\n",
    "        self.units = units\n",
    "        self.activation = tf.keras.activations.get(activation)\n",
    "        self.kernel_initializer = tf.keras.initializers.get(kernel_initializer)\n",
    "        self.bias_initializer = tf.keras.initializers.get(bias_initializer)\n",
    "\n",
    "    def build(self, input_shape):\n",
    "        # initialize the weights\n",
    "        if self.kernel_initializer != None:\n",
    "            w_init = self.kernel_initializer()\n",
    "        else:\n",
    "            w_init = tf.random_normal_initializer()\n",
    "        self.w = tf.Variable(name=\"kernel\",   \n",
    "                             initial_value=w_init(shape=(input_shape[-1], self.units),dtype='float32'),trainable=True)\n",
    "\n",
    "        # initialize the biases\n",
    "        if self.bias_initializer != None:\n",
    "            b_init = self.bias_initializer()\n",
    "        else:\n",
    "            b_init = tf.zeros_initializer()\n",
    "        self.b = tf.Variable(name=\"bias\",\n",
    "                             initial_value=b_init(shape=(self.units,), dtype='float32'),trainable=True)\n",
    "\n",
    "    def call(self, inputs):\n",
    "        s, u, v = tf.linalg.svd(self.w)\n",
    "        w1 = tf.matmul(tf.matmul(u[:,:20], tf.linalg.diag(s)[:20,:20]), tf.transpose(v[:,:20]))\n",
    "        return self.activation(tf.matmul(inputs, w1) + self.b)\n"
   ]
  },
  {
   "cell_type": "markdown",
   "metadata": {
    "id": "5GjpAyQNeWpj"
   },
   "source": [
    "### Model architecture & Summary"
   ]
  },
  {
   "cell_type": "code",
   "execution_count": 54,
   "metadata": {
    "colab": {
     "base_uri": "https://localhost:8080/"
    },
    "id": "p-h5TKOuVjmp",
    "outputId": "5f11baff-a469-4704-b049-855bf269683e"
   },
   "outputs": [
    {
     "name": "stdout",
     "output_type": "stream",
     "text": [
      "Model: \"model_6\"\n",
      "_________________________________________________________________\n",
      " Layer (type)                Output Shape              Param #   \n",
      "=================================================================\n",
      " input_8 (InputLayer)        [(None, 28, 28)]          0         \n",
      "                                                                 \n",
      " flatten_7 (Flatten)         (None, 784)               0         \n",
      "                                                                 \n",
      " Custom_layer_1 (SimpleDense  (None, 1024)             803840    \n",
      " )                                                               \n",
      "                                                                 \n",
      " batch_normalization_22 (Bat  (None, 1024)             4096      \n",
      " chNormalization)                                                \n",
      "                                                                 \n",
      " dropout_22 (Dropout)        (None, 1024)              0         \n",
      "                                                                 \n",
      " Custom_layer_2 (SimpleDense  (None, 1024)             1049600   \n",
      " )                                                               \n",
      "                                                                 \n",
      " batch_normalization_23 (Bat  (None, 1024)             4096      \n",
      " chNormalization)                                                \n",
      "                                                                 \n",
      " dropout_23 (Dropout)        (None, 1024)              0         \n",
      "                                                                 \n",
      " Custom_layer_3 (SimpleDense  (None, 1024)             1049600   \n",
      " )                                                               \n",
      "                                                                 \n",
      " batch_normalization_24 (Bat  (None, 1024)             4096      \n",
      " chNormalization)                                                \n",
      "                                                                 \n",
      " dropout_24 (Dropout)        (None, 1024)              0         \n",
      "                                                                 \n",
      " Custom_layer_4 (SimpleDense  (None, 1024)             1049600   \n",
      " )                                                               \n",
      "                                                                 \n",
      " batch_normalization_25 (Bat  (None, 1024)             4096      \n",
      " chNormalization)                                                \n",
      "                                                                 \n",
      " dropout_25 (Dropout)        (None, 1024)              0         \n",
      "                                                                 \n",
      " Custom_layer_5 (SimpleDense  (None, 1024)             1049600   \n",
      " )                                                               \n",
      "                                                                 \n",
      " batch_normalization_26 (Bat  (None, 1024)             4096      \n",
      " chNormalization)                                                \n",
      "                                                                 \n",
      " dropout_26 (Dropout)        (None, 1024)              0         \n",
      "                                                                 \n",
      " Output (Dense)              (None, 10)                10250     \n",
      "                                                                 \n",
      "=================================================================\n",
      "Total params: 5,032,970\n",
      "Trainable params: 5,022,730\n",
      "Non-trainable params: 10,240\n",
      "_________________________________________________________________\n"
     ]
    }
   ],
   "source": [
    "inp = tf.keras.Input(shape = IMG_SIZE)\n",
    "flat = tf.keras.layers.Flatten()(inp)\n",
    "layer = SimpleDense(1024, \n",
    "                    name = \"Custom_layer_1\",\n",
    "                    activation = tf.keras.layers.LeakyReLU())(flat)\n",
    "layer = tf.keras.layers.BatchNormalization()(layer)\n",
    "layer = tf.keras.layers.Dropout(0.2)(layer)\n",
    "\n",
    "for i in range(2, 6):\n",
    "    layer = SimpleDense(1024, \n",
    "                    name = f\"Custom_layer_{i}\",\n",
    "                    activation = tf.keras.layers.LeakyReLU())(layer)\n",
    "    layer = tf.keras.layers.BatchNormalization()(layer)\n",
    "    layer = tf.keras.layers.Dropout(0.2)(layer)\n",
    "out = tf.keras.layers.Dense(10, \n",
    "                                activation = 'softmax', \n",
    "                                kernel_initializer = 'glorot_uniform',\n",
    "                                name = 'Output')(layer)\n",
    "\n",
    "model_ques_3 = tf.keras.models.Model(inputs = inp, outputs = out)\n",
    "model_ques_3.compile(metrics=['accuracy'],\n",
    "              loss = 'categorical_crossentropy',\n",
    "              optimizer = 'adam')\n",
    "model_ques_3.summary()"
   ]
  },
  {
   "cell_type": "markdown",
   "metadata": {
    "id": "USWobwl4eeUG"
   },
   "source": [
    "### Setting Weights from the baseline model"
   ]
  },
  {
   "cell_type": "code",
   "execution_count": 55,
   "metadata": {
    "id": "yj8uzj7EYyXy"
   },
   "outputs": [],
   "source": [
    "model_ques_3.get_layer(\"Custom_layer_1\").set_weights([weights['Dense_layer_1'], bias['Dense_layer_1']])\n",
    "model_ques_3.get_layer(\"Custom_layer_2\").set_weights([weights['Dense_layer_2'], bias['Dense_layer_2']])\n",
    "model_ques_3.get_layer(\"Custom_layer_3\").set_weights([weights['Dense_layer_3'], bias['Dense_layer_3']])\n",
    "model_ques_3.get_layer(\"Custom_layer_4\").set_weights([weights['Dense_layer_4'], bias['Dense_layer_4']])\n",
    "model_ques_3.get_layer(\"Custom_layer_5\").set_weights([weights['Dense_layer_5'], bias['Dense_layer_5']])"
   ]
  },
  {
   "cell_type": "markdown",
   "metadata": {
    "id": "Kmc7Qi85eipb"
   },
   "source": [
    "### Training"
   ]
  },
  {
   "cell_type": "code",
   "execution_count": 56,
   "metadata": {
    "colab": {
     "base_uri": "https://localhost:8080/"
    },
    "id": "w685yCMRWqzN",
    "outputId": "0d48934c-72ea-439f-8c87-f6cb9fed6796"
   },
   "outputs": [
    {
     "name": "stdout",
     "output_type": "stream",
     "text": [
      "Epoch 1/10\n",
      "469/469 [==============================] - 801s 2s/step - loss: 0.1260 - accuracy: 0.9611 - val_loss: 0.1154 - val_accuracy: 0.9652\n",
      "Epoch 2/10\n",
      "469/469 [==============================] - 800s 2s/step - loss: 0.0846 - accuracy: 0.9733 - val_loss: 0.1024 - val_accuracy: 0.9731\n",
      "Epoch 3/10\n",
      "469/469 [==============================] - 801s 2s/step - loss: 0.0774 - accuracy: 0.9753 - val_loss: 0.0840 - val_accuracy: 0.9747\n",
      "Epoch 4/10\n",
      "469/469 [==============================] - 802s 2s/step - loss: 0.0688 - accuracy: 0.9776 - val_loss: 0.0888 - val_accuracy: 0.9752\n",
      "Epoch 5/10\n",
      "469/469 [==============================] - 801s 2s/step - loss: 0.0670 - accuracy: 0.9791 - val_loss: 0.0865 - val_accuracy: 0.9772\n",
      "Epoch 6/10\n",
      "469/469 [==============================] - 803s 2s/step - loss: 0.0640 - accuracy: 0.9795 - val_loss: 0.0927 - val_accuracy: 0.9723\n",
      "Epoch 7/10\n",
      "469/469 [==============================] - 803s 2s/step - loss: 0.0529 - accuracy: 0.9834 - val_loss: 0.0824 - val_accuracy: 0.9779\n",
      "Epoch 8/10\n",
      "469/469 [==============================] - 802s 2s/step - loss: 0.0568 - accuracy: 0.9819 - val_loss: 0.0947 - val_accuracy: 0.9752\n",
      "Epoch 9/10\n",
      "469/469 [==============================] - 801s 2s/step - loss: 0.0541 - accuracy: 0.9819 - val_loss: 0.0890 - val_accuracy: 0.9751\n",
      "Epoch 10/10\n",
      "469/469 [==============================] - 802s 2s/step - loss: 0.0501 - accuracy: 0.9836 - val_loss: 0.0837 - val_accuracy: 0.9799\n",
      "79/79 [==============================] - 114s 1s/step - loss: 0.0837 - accuracy: 0.9799\n",
      "Loss 0.08371138572692871, Accuracy 0.9799000024795532\n"
     ]
    }
   ],
   "source": [
    "model_ques_3.fit(df_train, validation_data=df_test, epochs=10)\n",
    "\n",
    "loss, acc = model_ques_3.evaluate(df_test)\n",
    "\n",
    "print(\"Loss {}, Accuracy {}\".format(loss, acc))"
   ]
  }
 ],
 "metadata": {
  "colab": {
   "machine_shape": "hm",
   "name": "Assignment_4_DLS.ipynb",
   "provenance": []
  },
  "kernelspec": {
   "display_name": "Python 3 (ipykernel)",
   "language": "python",
   "name": "python3"
  },
  "language_info": {
   "codemirror_mode": {
    "name": "ipython",
    "version": 3
   },
   "file_extension": ".py",
   "mimetype": "text/x-python",
   "name": "python",
   "nbconvert_exporter": "python",
   "pygments_lexer": "ipython3",
   "version": "3.9.7"
  }
 },
 "nbformat": 4,
 "nbformat_minor": 4
}
