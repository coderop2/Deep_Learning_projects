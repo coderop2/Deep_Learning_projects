{
 "cells": [
  {
   "cell_type": "markdown",
   "metadata": {
    "id": "ebEGgSy2bdDp"
   },
   "source": [
    "# Siamese Network"
   ]
  },
  {
   "cell_type": "markdown",
   "metadata": {
    "id": "qc0w8-YjbiT3"
   },
   "source": [
    "## Importing the libraries and dependencies and drive\n",
    "The following cell block imports all the libraries, functions, methods that are being used inn this jupyter notebook.<br>\n",
    "The Deep Learning/Machine Learning Libarary being used here is the high level keras API of tensorflow 2.X.<Br>\n",
    "And the plotting is done with matplotlib or seaborn plotting packages.\n",
    "\n",
    "Along with this all the constants that will be common throughout the file are defined and declared here."
   ]
  },
  {
   "cell_type": "code",
   "execution_count": 2,
   "metadata": {
    "colab": {
     "base_uri": "https://localhost:8080/"
    },
    "id": "qGMI8UW1sJ1f",
    "outputId": "0fff54f2-40cf-4504-c510-bbe33c65b853"
   },
   "outputs": [
    {
     "name": "stdout",
     "output_type": "stream",
     "text": [
      "Mounted at /content/drive\n"
     ]
    }
   ],
   "source": [
    "from google.colab import drive\n",
    "drive.mount('/content/drive')"
   ]
  },
  {
   "cell_type": "code",
   "execution_count": 1,
   "metadata": {
    "id": "SyFQdFHhF87g"
   },
   "outputs": [],
   "source": [
    "import random, math, os, pickle, random, librosa\n",
    "import numpy as np\n",
    "import pandas as pd\n",
    "import tensorflow as tf\n",
    "import matplotlib.pyplot as plt\n",
    "import tensorflow_datasets as tfds\n",
    "from itertools import combinations\n",
    "%matplotlib inline\n",
    "\n",
    "EPOCHS = 200\n",
    "BATCH_SIZE = 128\n",
    "IMG_SIZE = (28,28)\n",
    "SEED = 100\n",
    "CLASSES = 10\n",
    "LEARNING_RATE = 0.001\n",
    "ACCURACY_THRESHOLD = 0.98"
   ]
  },
  {
   "cell_type": "markdown",
   "metadata": {
    "id": "IyUseb13cbtk"
   },
   "source": [
    "## Siamese network"
   ]
  },
  {
   "cell_type": "markdown",
   "metadata": {
    "id": "kSZ8uA2rdK8-"
   },
   "source": [
    "Load Training and Testing Data.\n",
    "\n",
    "data is made up of various audio files"
   ]
  },
  {
   "cell_type": "code",
   "execution_count": 4,
   "metadata": {
    "colab": {
     "base_uri": "https://localhost:8080/"
    },
    "id": "Vz2f_Hw1dJY7",
    "outputId": "22bfdbd5-aa74-43fb-c1ca-2388edeead34"
   },
   "outputs": [
    {
     "name": "stdout",
     "output_type": "stream",
     "text": [
      "(500, 16180)\n",
      "(200, 22631)\n"
     ]
    }
   ],
   "source": [
    "with open('/content/drive/MyDrive/data/h4_trs.pkl', 'rb') as train_file:\n",
    "    train_data = pickle.load(train_file)\n",
    "print(train_data.shape)\n",
    "\n",
    "with open('/content/drive/MyDrive/data/h4_tes.pkl', 'rb') as test_file:\n",
    "    test_data = pickle.load(test_file)\n",
    "print(test_data.shape)"
   ]
  },
  {
   "cell_type": "markdown",
   "metadata": {
    "id": "gBst5vA8eoT8"
   },
   "source": [
    "### Create Positive pairs"
   ]
  },
  {
   "cell_type": "code",
   "execution_count": 18,
   "metadata": {
    "colab": {
     "base_uri": "https://localhost:8080/"
    },
    "id": "egNui2a0dnP7",
    "outputId": "13062ca9-b255-49b9-e71c-140a383328bd"
   },
   "outputs": [
    {
     "data": {
      "text/plain": [
       "45"
      ]
     },
     "execution_count": 18,
     "metadata": {},
     "output_type": "execute_result"
    }
   ],
   "source": [
    "def create_positive_pairs(one_speaker, L=45):\n",
    "    batch = []\n",
    "    pairs = list(combinations(range(len(one_speaker)), 2))\n",
    "    one_pairs = random.sample(pairs, L)\n",
    "    for a,b in one_pairs:\n",
    "        a1 = np.zeros((45, 513))\n",
    "        b1 = np.zeros((45, 513))\n",
    "        stft_1 = np.abs(librosa.stft(one_speaker[a], n_fft=1024, hop_length=512)).T\n",
    "        a1[:stft_1.shape[0]] = stft_1\n",
    "        stft_2 = np.abs(librosa.stft(one_speaker[b], n_fft=1024, hop_length=512)).T\n",
    "        b1[:stft_2.shape[0]] = stft_2\n",
    "        batch.append([a1, b1])\n",
    "    return batch\n",
    "\n",
    "pos_batch = create_positive_pairs(train_data[10:20])\n",
    "len(pos_batch)"
   ]
  },
  {
   "cell_type": "markdown",
   "metadata": {
    "id": "x1NbcNCEfjmM"
   },
   "source": [
    "### Create Negative pairs"
   ]
  },
  {
   "cell_type": "code",
   "execution_count": 19,
   "metadata": {
    "colab": {
     "base_uri": "https://localhost:8080/"
    },
    "id": "MyZBQ4Cqk6WM",
    "outputId": "1e9786a8-65a1-4baa-c4aa-2782b83f28f4"
   },
   "outputs": [
    {
     "data": {
      "text/plain": [
       "45"
      ]
     },
     "execution_count": 19,
     "metadata": {},
     "output_type": "execute_result"
    }
   ],
   "source": [
    "def create_negative_pairs(speaker_num, data, L=45):\n",
    "    batch = []\n",
    "    \n",
    "    start = speaker_num*10\n",
    "    end = start + 10     \n",
    "    speaker = random.choices(data[start: end], k=L)\n",
    "\n",
    "    neg = np.concatenate((data[:start], data[end:]))\n",
    "    not_speaker = random.choices(neg, k=L)\n",
    "\n",
    "    for speaker, not_speaker in zip(speaker, not_speaker):\n",
    "        x = np.abs(librosa.stft(speaker, n_fft=1024, hop_length=512)).T\n",
    "        stft_pos = np.zeros((45, 513))\n",
    "        stft_pos[:x.shape[0]] = x\n",
    "        y = np.abs(librosa.stft(not_speaker, n_fft=1024, hop_length=512)).T\n",
    "        stft_neg = np.zeros((45, 513))\n",
    "        stft_neg[:y.shape[0]] = y\n",
    "        batch.append([stft_pos, stft_neg])\n",
    "\n",
    "    return batch\n",
    "\n",
    "neg_batch = create_negative_pairs(5, train_data)\n",
    "len(neg_batch)"
   ]
  },
  {
   "cell_type": "markdown",
   "metadata": {
    "id": "jtb9FTLVgJwG"
   },
   "source": [
    "### Create training data"
   ]
  },
  {
   "cell_type": "code",
   "execution_count": 20,
   "metadata": {
    "colab": {
     "base_uri": "https://localhost:8080/"
    },
    "id": "dxl4IgEOk-3f",
    "outputId": "3ff7f77f-084f-4374-b805-a2e13fde48d4"
   },
   "outputs": [
    {
     "data": {
      "text/plain": [
       "((4500, 2, 45, 513), (4500,))"
      ]
     },
     "execution_count": 20,
     "metadata": {},
     "output_type": "execute_result"
    }
   ],
   "source": [
    "batched_data = []\n",
    "labels = []\n",
    "\n",
    "for i in range(50):\n",
    "    pos_batch = create_positive_pairs(train_data[i*10:i*10+10])\n",
    "    pos_labels = list(np.ones((len(pos_batch))))\n",
    "\n",
    "    neg_batch = create_negative_pairs(i, train_data)\n",
    "    neg_labels = list(np.zeros((len(neg_batch))))\n",
    "    \n",
    "    batched_data += pos_batch + neg_batch\n",
    "    labels += pos_labels + neg_labels\n",
    "\n",
    "df_train = np.stack(batched_data)\n",
    "labels = np.stack(labels)\n",
    "df_train.shape, labels.shape"
   ]
  },
  {
   "cell_type": "markdown",
   "metadata": {
    "id": "9s7cN6XMgMG1"
   },
   "source": [
    "### Create Testing/Validation data"
   ]
  },
  {
   "cell_type": "code",
   "execution_count": 21,
   "metadata": {
    "colab": {
     "base_uri": "https://localhost:8080/"
    },
    "id": "BPV1cUprOpvx",
    "outputId": "2c37b607-33a4-48f0-c421-f1375ce32b8a"
   },
   "outputs": [
    {
     "data": {
      "text/plain": [
       "((1800, 2, 45, 513), (1800,))"
      ]
     },
     "execution_count": 21,
     "metadata": {},
     "output_type": "execute_result"
    }
   ],
   "source": [
    "test_data_batched = []\n",
    "test_labels = []\n",
    "\n",
    "for i in range(20):\n",
    "    pos_batch = create_positive_pairs(test_data[i*10:i*10+10])\n",
    "    pos_labels = list(np.ones((len(pos_batch))))\n",
    "\n",
    "    neg_batch = create_negative_pairs(i, test_data)\n",
    "    neg_labels = list(np.zeros((len(neg_batch))))\n",
    "    \n",
    "    test_data_batched += pos_batch + neg_batch\n",
    "    test_labels += pos_labels + neg_labels\n",
    "\n",
    "df_test = np.stack(test_data_batched)\n",
    "test_labels = np.stack(test_labels)\n",
    "df_test.shape, test_labels.shape"
   ]
  },
  {
   "cell_type": "markdown",
   "metadata": {
    "id": "IRajJeDDgF_s"
   },
   "source": [
    "### Model Architecture & Summary"
   ]
  },
  {
   "cell_type": "code",
   "execution_count": 48,
   "metadata": {
    "colab": {
     "base_uri": "https://localhost:8080/"
    },
    "id": "d9EISRrARa1T",
    "outputId": "a1527475-aaf2-4a3c-c2e5-917bc8668627"
   },
   "outputs": [
    {
     "name": "stdout",
     "output_type": "stream",
     "text": [
      "Model: \"model_13\"\n",
      "__________________________________________________________________________________________________\n",
      " Layer (type)                   Output Shape         Param #     Connected to                     \n",
      "==================================================================================================\n",
      " input_34 (InputLayer)          [(None, 45, 513)]    0           []                               \n",
      "                                                                                                  \n",
      " input_35 (InputLayer)          [(None, 45, 513)]    0           []                               \n",
      "                                                                                                  \n",
      " sequential_13 (Sequential)     (None, 45, 64)       7527024     ['input_34[0][0]',               \n",
      "                                                                  'input_35[0][0]']               \n",
      "                                                                                                  \n",
      " tf.math.multiply_11 (TFOpLambd  (None, 45, 64)      0           ['sequential_13[0][0]',          \n",
      " a)                                                               'sequential_13[1][0]']          \n",
      "                                                                                                  \n",
      " tf.math.reduce_sum_11 (TFOpLam  (None, 64)          0           ['tf.math.multiply_11[0][0]']    \n",
      " bda)                                                                                             \n",
      "                                                                                                  \n",
      " dense_35 (Dense)               (None, 1)            65          ['tf.math.reduce_sum_11[0][0]']  \n",
      "                                                                                                  \n",
      "==================================================================================================\n",
      "Total params: 7,527,089\n",
      "Trainable params: 7,525,037\n",
      "Non-trainable params: 2,052\n",
      "__________________________________________________________________________________________________\n"
     ]
    }
   ],
   "source": [
    "def Siamese_model(shape = (45, 513)):\n",
    "    inp1 = tf.keras.Input(shape=shape)\n",
    "    inp2 = tf.keras.Input(shape=shape)\n",
    "\n",
    "    model = tf.keras.Sequential([\n",
    "                                tf.keras.Input(shape=shape),\n",
    "                                tf.keras.layers.Bidirectional(tf.keras.layers.LSTM(513, return_sequences=True)),\n",
    "                                # tf.keras.layers.LSTM(513, return_sequences=True),\n",
    "                                tf.keras.layers.BatchNormalization(),\n",
    "                                tf.keras.layers.Dropout(0.2),\n",
    "                                tf.keras.layers.LSTM(513, return_sequences=True),\n",
    "                                #  tf.keras.layers.BatchNormalization(),\n",
    "                                tf.keras.layers.Dropout(0.2),\n",
    "                                tf.keras.layers.Dense(256, activation = 'relu'),\n",
    "                                tf.keras.layers.Dense(64, activation = 'relu'),\n",
    "                                #  tf.keras.layers.Lambda(lambda x: tf.where(x > 0.5, 1, 0))\n",
    "    ])\n",
    "\n",
    "    featsA = model(inp1)\n",
    "    featsB = model(inp2)\n",
    "\n",
    "    prediction = tf.reduce_sum(tf.multiply(featsA, featsB), axis = 1)\n",
    "\n",
    "    # distance = tf.keras.layers.Concatenate()([featsA, featsB])\n",
    "    outputs = tf.keras.layers.Dense(1, activation=\"sigmoid\")(prediction)\n",
    "\n",
    "    return tf.keras.models.Model(inputs=[inp1, inp2], outputs=outputs)\n",
    "\n",
    "model = Siamese_model()\n",
    "model.compile(loss=\"binary_crossentropy\", optimizer=\"adam\",\n",
    "\tmetrics=[\"accuracy\"])\n",
    "model.summary()"
   ]
  },
  {
   "cell_type": "markdown",
   "metadata": {
    "id": "Kga4nnhzgC2W"
   },
   "source": [
    "### Training"
   ]
  },
  {
   "cell_type": "code",
   "execution_count": 50,
   "metadata": {
    "colab": {
     "base_uri": "https://localhost:8080/"
    },
    "id": "P9DTbnspUFHt",
    "outputId": "123b11b9-bc42-4fb6-c1b0-c2ea0221816f"
   },
   "outputs": [
    {
     "name": "stdout",
     "output_type": "stream",
     "text": [
      "Epoch 1/100\n",
      "71/71 [==============================] - 18s 134ms/step - loss: 1.1913 - accuracy: 0.5547 - val_loss: 0.6800 - val_accuracy: 0.5644\n",
      "Epoch 2/100\n",
      "71/71 [==============================] - 7s 102ms/step - loss: 0.6079 - accuracy: 0.6698 - val_loss: 0.7593 - val_accuracy: 0.6200\n",
      "Epoch 3/100\n",
      "71/71 [==============================] - 7s 103ms/step - loss: 0.5211 - accuracy: 0.7367 - val_loss: 0.6133 - val_accuracy: 0.7117\n",
      "Epoch 4/100\n",
      "71/71 [==============================] - 7s 103ms/step - loss: 0.3978 - accuracy: 0.8176 - val_loss: 0.5869 - val_accuracy: 0.7606\n",
      "Epoch 5/100\n",
      "71/71 [==============================] - 7s 103ms/step - loss: 0.3371 - accuracy: 0.8513 - val_loss: 0.5391 - val_accuracy: 0.7306\n",
      "Epoch 6/100\n",
      "71/71 [==============================] - 7s 103ms/step - loss: 0.2558 - accuracy: 0.8980 - val_loss: 0.6645 - val_accuracy: 0.7394\n",
      "Epoch 7/100\n",
      "71/71 [==============================] - 7s 103ms/step - loss: 0.2151 - accuracy: 0.9164 - val_loss: 0.7546 - val_accuracy: 0.6561\n",
      "Epoch 8/100\n",
      "71/71 [==============================] - 7s 103ms/step - loss: 0.1948 - accuracy: 0.9207 - val_loss: 0.7136 - val_accuracy: 0.7689\n",
      "Epoch 9/100\n",
      "71/71 [==============================] - 7s 103ms/step - loss: 0.1562 - accuracy: 0.9413 - val_loss: 0.6650 - val_accuracy: 0.7456\n",
      "Epoch 10/100\n",
      "71/71 [==============================] - 7s 103ms/step - loss: 0.1262 - accuracy: 0.9484 - val_loss: 0.8056 - val_accuracy: 0.7478\n",
      "Epoch 11/100\n",
      "71/71 [==============================] - 7s 103ms/step - loss: 0.1244 - accuracy: 0.9536 - val_loss: 0.9317 - val_accuracy: 0.7033\n",
      "Epoch 12/100\n",
      "71/71 [==============================] - 7s 103ms/step - loss: 0.0996 - accuracy: 0.9649 - val_loss: 1.1098 - val_accuracy: 0.7250\n",
      "Epoch 13/100\n",
      "71/71 [==============================] - 7s 103ms/step - loss: 0.0793 - accuracy: 0.9713 - val_loss: 1.0433 - val_accuracy: 0.7000\n",
      "Epoch 14/100\n",
      "71/71 [==============================] - 7s 103ms/step - loss: 0.0833 - accuracy: 0.9711 - val_loss: 0.8558 - val_accuracy: 0.7356\n",
      "Epoch 15/100\n",
      "71/71 [==============================] - 7s 103ms/step - loss: 0.1197 - accuracy: 0.9582 - val_loss: 0.9268 - val_accuracy: 0.7406\n",
      "Epoch 16/100\n",
      "71/71 [==============================] - 7s 103ms/step - loss: 0.0724 - accuracy: 0.9751 - val_loss: 1.0711 - val_accuracy: 0.7061\n",
      "Epoch 17/100\n",
      "71/71 [==============================] - 7s 103ms/step - loss: 0.0691 - accuracy: 0.9764 - val_loss: 1.0058 - val_accuracy: 0.7078\n",
      "Epoch 18/100\n",
      "71/71 [==============================] - 7s 103ms/step - loss: 0.0617 - accuracy: 0.9789 - val_loss: 1.4169 - val_accuracy: 0.6828\n",
      "Epoch 19/100\n",
      "71/71 [==============================] - 7s 103ms/step - loss: 0.0774 - accuracy: 0.9747 - val_loss: 0.8917 - val_accuracy: 0.7711\n",
      "Epoch 20/100\n",
      "71/71 [==============================] - 7s 103ms/step - loss: 0.0896 - accuracy: 0.9693 - val_loss: 1.0869 - val_accuracy: 0.7072\n",
      "Epoch 21/100\n",
      "71/71 [==============================] - 7s 103ms/step - loss: 0.0605 - accuracy: 0.9822 - val_loss: 0.7671 - val_accuracy: 0.7383\n",
      "Epoch 22/100\n",
      "71/71 [==============================] - 7s 103ms/step - loss: 0.0445 - accuracy: 0.9862 - val_loss: 1.1880 - val_accuracy: 0.6606\n",
      "Epoch 23/100\n",
      "71/71 [==============================] - 7s 103ms/step - loss: 0.0225 - accuracy: 0.9938 - val_loss: 1.4220 - val_accuracy: 0.6911\n",
      "Epoch 24/100\n",
      "71/71 [==============================] - 7s 103ms/step - loss: 0.0128 - accuracy: 0.9947 - val_loss: 1.2339 - val_accuracy: 0.7406\n",
      "Epoch 25/100\n",
      "71/71 [==============================] - 7s 103ms/step - loss: 0.0291 - accuracy: 0.9922 - val_loss: 1.0510 - val_accuracy: 0.7489\n",
      "Epoch 26/100\n",
      "71/71 [==============================] - 7s 103ms/step - loss: 0.0336 - accuracy: 0.9902 - val_loss: 1.0904 - val_accuracy: 0.7294\n",
      "Epoch 27/100\n",
      "71/71 [==============================] - 7s 103ms/step - loss: 0.0490 - accuracy: 0.9847 - val_loss: 0.9288 - val_accuracy: 0.7250\n",
      "Epoch 28/100\n",
      "71/71 [==============================] - 7s 103ms/step - loss: 0.0268 - accuracy: 0.9922 - val_loss: 1.1908 - val_accuracy: 0.7350\n",
      "Epoch 29/100\n",
      "71/71 [==============================] - 7s 103ms/step - loss: 0.0300 - accuracy: 0.9896 - val_loss: 1.3701 - val_accuracy: 0.7289\n",
      "Epoch 30/100\n",
      "71/71 [==============================] - 7s 103ms/step - loss: 0.0282 - accuracy: 0.9907 - val_loss: 2.2995 - val_accuracy: 0.7011\n",
      "Epoch 31/100\n",
      "71/71 [==============================] - 7s 104ms/step - loss: 0.0658 - accuracy: 0.9782 - val_loss: 1.1251 - val_accuracy: 0.7100\n",
      "Epoch 32/100\n",
      "71/71 [==============================] - 7s 103ms/step - loss: 0.0621 - accuracy: 0.9809 - val_loss: 2.0016 - val_accuracy: 0.6317\n",
      "Epoch 33/100\n",
      "71/71 [==============================] - 7s 104ms/step - loss: 0.0442 - accuracy: 0.9853 - val_loss: 0.9976 - val_accuracy: 0.7067\n",
      "Epoch 34/100\n",
      "71/71 [==============================] - 7s 104ms/step - loss: 0.0256 - accuracy: 0.9916 - val_loss: 1.0892 - val_accuracy: 0.7278\n",
      "Epoch 35/100\n",
      "71/71 [==============================] - 7s 104ms/step - loss: 0.0365 - accuracy: 0.9889 - val_loss: 0.8972 - val_accuracy: 0.6811\n",
      "Epoch 36/100\n",
      "71/71 [==============================] - 7s 104ms/step - loss: 0.0181 - accuracy: 0.9944 - val_loss: 1.5527 - val_accuracy: 0.6911\n",
      "Epoch 37/100\n",
      "71/71 [==============================] - 7s 104ms/step - loss: 0.0164 - accuracy: 0.9960 - val_loss: 1.3962 - val_accuracy: 0.6983\n",
      "Epoch 38/100\n",
      "71/71 [==============================] - 7s 104ms/step - loss: 0.0117 - accuracy: 0.9964 - val_loss: 1.7488 - val_accuracy: 0.6850\n",
      "Epoch 39/100\n",
      "71/71 [==============================] - 7s 103ms/step - loss: 0.0067 - accuracy: 0.9980 - val_loss: 1.9016 - val_accuracy: 0.6761\n",
      "Epoch 40/100\n",
      "71/71 [==============================] - 7s 103ms/step - loss: 0.0052 - accuracy: 0.9980 - val_loss: 1.7076 - val_accuracy: 0.6800\n",
      "Epoch 41/100\n",
      "71/71 [==============================] - 7s 103ms/step - loss: 0.0030 - accuracy: 0.9991 - val_loss: 1.6679 - val_accuracy: 0.7033\n",
      "Epoch 42/100\n",
      "71/71 [==============================] - 7s 103ms/step - loss: 9.0420e-04 - accuracy: 0.9996 - val_loss: 2.3710 - val_accuracy: 0.6622\n",
      "Epoch 43/100\n",
      "71/71 [==============================] - 7s 104ms/step - loss: 2.0227e-04 - accuracy: 1.0000 - val_loss: 2.1499 - val_accuracy: 0.6806\n",
      "Epoch 44/100\n",
      "71/71 [==============================] - 7s 104ms/step - loss: 1.1625e-04 - accuracy: 1.0000 - val_loss: 2.1403 - val_accuracy: 0.6867\n",
      "Epoch 45/100\n",
      "71/71 [==============================] - 7s 103ms/step - loss: 4.9358e-05 - accuracy: 1.0000 - val_loss: 2.1747 - val_accuracy: 0.6867\n",
      "Epoch 46/100\n",
      "71/71 [==============================] - 7s 103ms/step - loss: 3.9212e-05 - accuracy: 1.0000 - val_loss: 2.2206 - val_accuracy: 0.6839\n",
      "Epoch 47/100\n",
      "71/71 [==============================] - 7s 103ms/step - loss: 4.0930e-05 - accuracy: 1.0000 - val_loss: 2.2715 - val_accuracy: 0.6817\n",
      "Epoch 48/100\n",
      "71/71 [==============================] - 7s 104ms/step - loss: 2.8802e-05 - accuracy: 1.0000 - val_loss: 2.3139 - val_accuracy: 0.6772\n",
      "Epoch 49/100\n",
      "71/71 [==============================] - 7s 103ms/step - loss: 2.6525e-05 - accuracy: 1.0000 - val_loss: 2.3182 - val_accuracy: 0.6828\n",
      "Epoch 50/100\n",
      "71/71 [==============================] - 7s 103ms/step - loss: 2.1971e-05 - accuracy: 1.0000 - val_loss: 2.3389 - val_accuracy: 0.6822\n",
      "Epoch 51/100\n",
      "71/71 [==============================] - 7s 103ms/step - loss: 2.1627e-05 - accuracy: 1.0000 - val_loss: 2.3637 - val_accuracy: 0.6822\n",
      "Epoch 52/100\n",
      "71/71 [==============================] - 7s 103ms/step - loss: 2.2980e-05 - accuracy: 1.0000 - val_loss: 2.3745 - val_accuracy: 0.6833\n",
      "Epoch 53/100\n",
      "71/71 [==============================] - 7s 103ms/step - loss: 1.7227e-05 - accuracy: 1.0000 - val_loss: 2.3918 - val_accuracy: 0.6828\n",
      "Epoch 54/100\n",
      "71/71 [==============================] - 7s 102ms/step - loss: 1.4433e-05 - accuracy: 1.0000 - val_loss: 2.4158 - val_accuracy: 0.6817\n",
      "Epoch 55/100\n",
      "71/71 [==============================] - 7s 103ms/step - loss: 1.2579e-05 - accuracy: 1.0000 - val_loss: 2.4297 - val_accuracy: 0.6817\n",
      "Epoch 56/100\n",
      "71/71 [==============================] - 7s 103ms/step - loss: 1.4492e-05 - accuracy: 1.0000 - val_loss: 2.4405 - val_accuracy: 0.6811\n",
      "Epoch 57/100\n",
      "71/71 [==============================] - 7s 102ms/step - loss: 1.3247e-05 - accuracy: 1.0000 - val_loss: 2.4467 - val_accuracy: 0.6822\n",
      "Epoch 58/100\n",
      "71/71 [==============================] - 7s 102ms/step - loss: 1.0133e-05 - accuracy: 1.0000 - val_loss: 2.4557 - val_accuracy: 0.6822\n",
      "Epoch 59/100\n",
      "71/71 [==============================] - 7s 102ms/step - loss: 8.6105e-06 - accuracy: 1.0000 - val_loss: 2.4755 - val_accuracy: 0.6822\n",
      "Epoch 60/100\n",
      "71/71 [==============================] - 7s 102ms/step - loss: 9.4122e-06 - accuracy: 1.0000 - val_loss: 2.4940 - val_accuracy: 0.6794\n",
      "Epoch 61/100\n",
      "71/71 [==============================] - 7s 103ms/step - loss: 7.0581e-06 - accuracy: 1.0000 - val_loss: 2.5041 - val_accuracy: 0.6783\n",
      "Epoch 62/100\n",
      "71/71 [==============================] - 7s 103ms/step - loss: 9.4251e-06 - accuracy: 1.0000 - val_loss: 2.5084 - val_accuracy: 0.6800\n",
      "Epoch 63/100\n",
      "71/71 [==============================] - 7s 103ms/step - loss: 6.7801e-06 - accuracy: 1.0000 - val_loss: 2.5168 - val_accuracy: 0.6789\n",
      "Epoch 64/100\n",
      "71/71 [==============================] - 7s 103ms/step - loss: 6.4543e-06 - accuracy: 1.0000 - val_loss: 2.5295 - val_accuracy: 0.6794\n",
      "Epoch 65/100\n",
      "71/71 [==============================] - 7s 103ms/step - loss: 5.7578e-06 - accuracy: 1.0000 - val_loss: 2.5475 - val_accuracy: 0.6789\n",
      "Epoch 66/100\n",
      "71/71 [==============================] - 7s 103ms/step - loss: 7.1657e-06 - accuracy: 1.0000 - val_loss: 2.5563 - val_accuracy: 0.6794\n",
      "Epoch 67/100\n",
      "71/71 [==============================] - 7s 103ms/step - loss: 5.1561e-06 - accuracy: 1.0000 - val_loss: 2.5742 - val_accuracy: 0.6789\n",
      "Epoch 68/100\n",
      "71/71 [==============================] - 7s 103ms/step - loss: 4.3415e-06 - accuracy: 1.0000 - val_loss: 2.5853 - val_accuracy: 0.6783\n",
      "Epoch 69/100\n",
      "71/71 [==============================] - 7s 103ms/step - loss: 4.2870e-06 - accuracy: 1.0000 - val_loss: 2.5961 - val_accuracy: 0.6778\n",
      "Epoch 70/100\n",
      "71/71 [==============================] - 7s 103ms/step - loss: 5.4900e-06 - accuracy: 1.0000 - val_loss: 2.6063 - val_accuracy: 0.6789\n",
      "Epoch 71/100\n",
      "71/71 [==============================] - 7s 103ms/step - loss: 4.9894e-06 - accuracy: 1.0000 - val_loss: 2.6233 - val_accuracy: 0.6800\n",
      "Epoch 72/100\n",
      "71/71 [==============================] - 7s 103ms/step - loss: 5.0479e-06 - accuracy: 1.0000 - val_loss: 2.6364 - val_accuracy: 0.6772\n",
      "Epoch 73/100\n",
      "71/71 [==============================] - 7s 103ms/step - loss: 4.7152e-06 - accuracy: 1.0000 - val_loss: 2.6528 - val_accuracy: 0.6772\n",
      "Epoch 74/100\n",
      "71/71 [==============================] - 7s 103ms/step - loss: 4.7848e-06 - accuracy: 1.0000 - val_loss: 2.6648 - val_accuracy: 0.6783\n",
      "Epoch 75/100\n",
      "71/71 [==============================] - 7s 103ms/step - loss: 4.6448e-06 - accuracy: 1.0000 - val_loss: 2.6765 - val_accuracy: 0.6783\n",
      "Epoch 76/100\n",
      "71/71 [==============================] - 7s 103ms/step - loss: 3.2138e-06 - accuracy: 1.0000 - val_loss: 2.6833 - val_accuracy: 0.6783\n",
      "Epoch 77/100\n",
      "71/71 [==============================] - 7s 103ms/step - loss: 3.8075e-06 - accuracy: 1.0000 - val_loss: 2.6987 - val_accuracy: 0.6778\n",
      "Epoch 78/100\n",
      "71/71 [==============================] - 7s 103ms/step - loss: 3.1851e-06 - accuracy: 1.0000 - val_loss: 2.7005 - val_accuracy: 0.6789\n",
      "Epoch 79/100\n",
      "71/71 [==============================] - 7s 103ms/step - loss: 2.9840e-06 - accuracy: 1.0000 - val_loss: 2.7007 - val_accuracy: 0.6789\n",
      "Epoch 80/100\n",
      "71/71 [==============================] - 7s 104ms/step - loss: 2.7269e-06 - accuracy: 1.0000 - val_loss: 2.7086 - val_accuracy: 0.6783\n",
      "Epoch 81/100\n",
      "71/71 [==============================] - 7s 103ms/step - loss: 2.6009e-06 - accuracy: 1.0000 - val_loss: 2.7246 - val_accuracy: 0.6778\n",
      "Epoch 82/100\n",
      "71/71 [==============================] - 7s 103ms/step - loss: 2.1583e-06 - accuracy: 1.0000 - val_loss: 2.7328 - val_accuracy: 0.6783\n",
      "Epoch 83/100\n",
      "71/71 [==============================] - 7s 103ms/step - loss: 1.9977e-06 - accuracy: 1.0000 - val_loss: 2.7367 - val_accuracy: 0.6778\n",
      "Epoch 84/100\n",
      "71/71 [==============================] - 7s 104ms/step - loss: 3.0317e-06 - accuracy: 1.0000 - val_loss: 2.7428 - val_accuracy: 0.6783\n",
      "Epoch 85/100\n",
      "71/71 [==============================] - 7s 103ms/step - loss: 2.5712e-06 - accuracy: 1.0000 - val_loss: 2.7685 - val_accuracy: 0.6750\n",
      "Epoch 86/100\n",
      "71/71 [==============================] - 7s 103ms/step - loss: 2.3978e-06 - accuracy: 1.0000 - val_loss: 2.7641 - val_accuracy: 0.6778\n",
      "Epoch 87/100\n",
      "71/71 [==============================] - 7s 103ms/step - loss: 2.1097e-06 - accuracy: 1.0000 - val_loss: 2.7691 - val_accuracy: 0.6778\n",
      "Epoch 88/100\n",
      "71/71 [==============================] - 7s 103ms/step - loss: 1.9748e-06 - accuracy: 1.0000 - val_loss: 2.7813 - val_accuracy: 0.6772\n",
      "Epoch 89/100\n",
      "71/71 [==============================] - 7s 103ms/step - loss: 2.5576e-06 - accuracy: 1.0000 - val_loss: 2.7854 - val_accuracy: 0.6772\n",
      "Epoch 90/100\n",
      "71/71 [==============================] - 7s 103ms/step - loss: 1.8324e-06 - accuracy: 1.0000 - val_loss: 2.7830 - val_accuracy: 0.6772\n",
      "Epoch 91/100\n",
      "71/71 [==============================] - 7s 102ms/step - loss: 1.6829e-06 - accuracy: 1.0000 - val_loss: 2.7961 - val_accuracy: 0.6778\n",
      "Epoch 92/100\n",
      "71/71 [==============================] - 7s 102ms/step - loss: 1.5079e-06 - accuracy: 1.0000 - val_loss: 2.8062 - val_accuracy: 0.6761\n",
      "Epoch 93/100\n",
      "71/71 [==============================] - 7s 103ms/step - loss: 1.5102e-06 - accuracy: 1.0000 - val_loss: 2.8205 - val_accuracy: 0.6778\n",
      "Epoch 94/100\n",
      "71/71 [==============================] - 7s 103ms/step - loss: 1.4047e-06 - accuracy: 1.0000 - val_loss: 2.8225 - val_accuracy: 0.6761\n",
      "Epoch 95/100\n",
      "71/71 [==============================] - 7s 103ms/step - loss: 1.2752e-06 - accuracy: 1.0000 - val_loss: 2.8428 - val_accuracy: 0.6767\n",
      "Epoch 96/100\n",
      "71/71 [==============================] - 7s 104ms/step - loss: 1.3945e-06 - accuracy: 1.0000 - val_loss: 2.8545 - val_accuracy: 0.6761\n",
      "Epoch 97/100\n",
      "71/71 [==============================] - 7s 103ms/step - loss: 1.5072e-06 - accuracy: 1.0000 - val_loss: 2.8578 - val_accuracy: 0.6756\n",
      "Epoch 98/100\n",
      "71/71 [==============================] - 7s 103ms/step - loss: 1.4714e-06 - accuracy: 1.0000 - val_loss: 2.8706 - val_accuracy: 0.6761\n",
      "Epoch 99/100\n",
      "71/71 [==============================] - 7s 103ms/step - loss: 1.2564e-06 - accuracy: 1.0000 - val_loss: 2.8855 - val_accuracy: 0.6756\n",
      "Epoch 100/100\n",
      "71/71 [==============================] - 7s 103ms/step - loss: 1.3281e-06 - accuracy: 1.0000 - val_loss: 2.9171 - val_accuracy: 0.6756\n"
     ]
    },
    {
     "data": {
      "text/plain": [
       "<keras.callbacks.History at 0x7f6ec9fcf290>"
      ]
     },
     "execution_count": 50,
     "metadata": {},
     "output_type": "execute_result"
    }
   ],
   "source": [
    "model.fit([df_train[:, 0], df_train[:, 1]], labels, \n",
    "          validation_data=([df_test[:,0], df_test[:,1]], test_labels), \n",
    "          batch_size=64, epochs=100)"
   ]
  },
  {
   "cell_type": "markdown",
   "metadata": {
    "id": "9m4gLtb7gAMn"
   },
   "source": [
    "### Plot the results\n",
    "Note:- Please ignore the X-label of the graphs. Its supposed to be \"Epochs\" but since the time is less - I labeled it D previously and am not able to run the whole model again due to shortage of time."
   ]
  },
  {
   "cell_type": "code",
   "execution_count": 51,
   "metadata": {
    "colab": {
     "base_uri": "https://localhost:8080/",
     "height": 791
    },
    "id": "-Kcr0cYgT3Y6",
    "outputId": "521e5942-9ec8-44ff-aa4a-b7a0e479e8a6"
   },
   "outputs": [
    {
     "data": {
      "image/png": "[encoded data removed]",
      "text/plain": [
       "<Figure size 720x432 with 1 Axes>"
      ]
     },
     "metadata": {
      "needs_background": "light"
     },
     "output_type": "display_data"
    },
    {
     "data": {
      "image/png": "[encoded data removed]",
      "text/plain": [
       "<Figure size 720x432 with 1 Axes>"
      ]
     },
     "metadata": {
      "needs_background": "light"
     },
     "output_type": "display_data"
    }
   ],
   "source": [
    "plt.figure(figsize = (10,6))\n",
    "plt.plot(model.history.history[\"accuracy\"])\n",
    "plt.plot(model.history.history[\"val_accuracy\"])\n",
    "plt.title(\"Accuracy of the model\")\n",
    "plt.xlabel('D')\n",
    "plt.ylabel(\"Accuracy\")\n",
    "plt.show()\n",
    "\n",
    "plt.figure(figsize = (10,6))\n",
    "plt.plot(model.history.history[\"loss\"])\n",
    "plt.plot(model.history.history[\"val_loss\"])\n",
    "plt.title(\"Loss of the model\")\n",
    "plt.xlabel('D')\n",
    "plt.ylabel(\"Loss\")\n",
    "plt.show()"
   ]
  },
  {
   "cell_type": "markdown",
   "metadata": {
    "id": "_1VZaXq0fw7o"
   },
   "source": [
    "### Conclusion\n",
    "As it can be seen form the above that its quite evident that the model is over fitting to the training data. So the optimal choice of the epoch would be 20-30."
   ]
  },
  {
   "cell_type": "code",
   "execution_count": 52,
   "metadata": {
    "colab": {
     "base_uri": "https://localhost:8080/"
    },
    "id": "09ZKp7GvXHU0",
    "outputId": "50985be9-5d4c-49d3-ef25-1cac2996d8a3"
   },
   "outputs": [
    {
     "name": "stdout",
     "output_type": "stream",
     "text": [
      "57/57 [==============================] - 1s 25ms/step - loss: 2.9171 - accuracy: 0.6756\n"
     ]
    },
    {
     "data": {
      "text/plain": [
       "[2.917083501815796, 0.6755555272102356]"
      ]
     },
     "execution_count": 52,
     "metadata": {},
     "output_type": "execute_result"
    }
   ],
   "source": [
    "model.evaluate([df_test[:, 0], df_test[:, 1]] ,test_labels)"
   ]
  },
  {
   "cell_type": "code",
   "execution_count": null,
   "metadata": {
    "colab": {
     "base_uri": "https://localhost:8080/"
    },
    "id": "klDaxJC4XsTy",
    "outputId": "c6f5986a-aff6-4622-bb8d-30b11e4a9fdb"
   },
   "outputs": [
    {
     "data": {
      "text/plain": [
       "(1800, 45, 1)"
      ]
     },
     "execution_count": 42,
     "metadata": {},
     "output_type": "execute_result"
    }
   ],
   "source": [
    "preds = model.predict([df_test[:, 0], df_test[:, 1]])\n",
    "preds.shape"
   ]
  },
  {
   "cell_type": "code",
   "execution_count": null,
   "metadata": {
    "colab": {
     "base_uri": "https://localhost:8080/"
    },
    "id": "WDFGnu2dYA5Z",
    "outputId": "50e2f096-1d75-464e-b8ad-65a84768b30e"
   },
   "outputs": [
    {
     "data": {
      "text/plain": [
       "(1800, 2, 45, 513)"
      ]
     },
     "execution_count": 43,
     "metadata": {},
     "output_type": "execute_result"
    }
   ],
   "source": [
    "df_test.shape"
   ]
  }
 ],
 "metadata": {
  "colab": {
   "machine_shape": "hm",
   "name": "Assignment_4_DLS.ipynb",
   "provenance": []
  },
  "kernelspec": {
   "display_name": "Python 3 (ipykernel)",
   "language": "python",
   "name": "python3"
  },
  "language_info": {
   "codemirror_mode": {
    "name": "ipython",
    "version": 3
   },
   "file_extension": ".py",
   "mimetype": "text/x-python",
   "name": "python",
   "nbconvert_exporter": "python",
   "pygments_lexer": "ipython3",
   "version": "3.9.7"
  }
 },
 "nbformat": 4,
 "nbformat_minor": 4
}
